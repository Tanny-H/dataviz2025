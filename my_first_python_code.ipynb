{
  "nbformat": 4,
  "nbformat_minor": 0,
  "metadata": {
    "colab": {
      "provenance": [],
      "authorship_tag": "ABX9TyNbPk9WgsVRnt5WX2Z69Hat",
      "include_colab_link": true
    },
    "kernelspec": {
      "name": "python3",
      "display_name": "Python 3"
    },
    "language_info": {
      "name": "python"
    }
  },
  "cells": [
    {
      "cell_type": "markdown",
      "metadata": {
        "id": "view-in-github",
        "colab_type": "text"
      },
      "source": [
        "<a href=\"https://colab.research.google.com/github/Tanny-H/dataviz2025/blob/main/my_first_python_code.ipynb\" target=\"_parent\"><img src=\"https://colab.research.google.com/assets/colab-badge.svg\" alt=\"Open In Colab\"/></a>"
      ]
    },
    {
      "cell_type": "markdown",
      "source": [
        "Here we can write using **Markdown**\n",
        "#Intro"
      ],
      "metadata": {
        "id": "DuuBQ4NcIZNf"
      }
    },
    {
      "cell_type": "markdown",
      "source": [
        "#Name"
      ],
      "metadata": {
        "id": "-tkY0DRcIp24"
      }
    },
    {
      "cell_type": "code",
      "source": [
        "print(\"Tanawut\")"
      ],
      "metadata": {
        "colab": {
          "base_uri": "https://localhost:8080/"
        },
        "id": "zh9rCyGeIzLH",
        "outputId": "267c24ca-c7d5-4a25-995e-5cceae8b10b6"
      },
      "execution_count": 2,
      "outputs": [
        {
          "output_type": "stream",
          "name": "stdout",
          "text": [
            "Tanawut\n"
          ]
        }
      ]
    },
    {
      "cell_type": "markdown",
      "source": [
        "#Surename"
      ],
      "metadata": {
        "id": "sZ4186j_Itht"
      }
    },
    {
      "cell_type": "code",
      "execution_count": 3,
      "metadata": {
        "colab": {
          "base_uri": "https://localhost:8080/"
        },
        "id": "PjoTkFyoGIyO",
        "outputId": "81a9f9c0-e405-485f-8a4e-ad9bf9d0b107"
      },
      "outputs": [
        {
          "output_type": "stream",
          "name": "stdout",
          "text": [
            "Hancherngchai\n"
          ]
        }
      ],
      "source": [
        "print('Hancherngchai')"
      ]
    }
  ]
}